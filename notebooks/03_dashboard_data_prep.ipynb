{
 "cells": [
  {
   "cell_type": "code",
   "execution_count": 1,
   "id": "926c80d4-ee03-4a29-b0c1-6e9e12550b37",
   "metadata": {},
   "outputs": [],
   "source": [
    "# Import Libraries\n",
    "import pandas as pd\n",
    "import json\n",
    "import os\n",
    "import sys"
   ]
  },
  {
   "cell_type": "code",
   "execution_count": 2,
   "id": "a748e76d-8496-4667-8054-e0bd8e4bda6f",
   "metadata": {},
   "outputs": [],
   "source": [
    "# Add the src directory to the Python path\n",
    "sys.path.append(os.path.abspath('../src'))\n",
    "\n",
    "from data_processing import load_brent_data, calculate_log_returns, load_event_data\n",
    "from modeling import load_results # To load previously saved analysis results\n"
   ]
  },
  {
   "cell_type": "code",
   "execution_count": 3,
   "id": "7088f663-1feb-4588-b40e-fbd16ff8e180",
   "metadata": {},
   "outputs": [
    {
     "name": "stdout",
     "output_type": "stream",
     "text": [
      "--- Preparing Data for Dashboard ---\n"
     ]
    }
   ],
   "source": [
    "print(\"--- Preparing Data for Dashboard ---\")"
   ]
  },
  {
   "cell_type": "code",
   "execution_count": 5,
   "id": "249a6d28-819c-4df9-be06-25d08380ca9d",
   "metadata": {},
   "outputs": [],
   "source": [
    "# Define file paths\n",
    "processed_brent_data_path = '../data/processed/processed_brent_data.csv'\n",
    "change_point_results_path = '../data/processed/change_point_results.json'\n",
    "raw_brent_data_path = '../data/raw/BrentOilPrices.csv'\n",
    "key_events_data_path = '../data/raw/key_events.csv'"
   ]
  },
  {
   "cell_type": "code",
   "execution_count": 6,
   "id": "477421fe-54f0-4d66-a0a7-52d32636e8fe",
   "metadata": {},
   "outputs": [
    {
     "name": "stdout",
     "output_type": "stream",
     "text": [
      "Loading raw Brent oil prices from: ../data/raw/BrentOilPrices.csv\n"
     ]
    },
    {
     "name": "stderr",
     "output_type": "stream",
     "text": [
      "C:\\Users\\du\\Desktop\\Git\\brent-oil-price-prediction-using-time-series-data\\src\\data_processing.py:8: UserWarning: Could not infer format, so each element will be parsed individually, falling back to `dateutil`. To ensure parsing is consistent and as-expected, please specify a format.\n",
      "  df['Date'] = pd.to_datetime(df['Date'])\n"
     ]
    }
   ],
   "source": [
    "# Load historical Brent oil prices (full dataset including original prices)\n",
    "print(f\"Loading raw Brent oil prices from: {raw_brent_data_path}\")\n",
    "brent_raw_df = load_brent_data(raw_brent_data_path)\n",
    "if brent_raw_df is None:\n",
    "    print(\"Failed to load raw Brent oil prices. Exiting.\")\n",
    "    exit()"
   ]
  },
  {
   "cell_type": "code",
   "execution_count": 7,
   "id": "a04b2f7a-1e64-4ff7-abe7-7116083a5bd1",
   "metadata": {},
   "outputs": [
    {
     "name": "stdout",
     "output_type": "stream",
     "text": [
      "Loading processed Brent data with log returns from: ../data/processed/processed_brent_data.csv\n"
     ]
    }
   ],
   "source": [
    "# Load processed Brent data with log returns\n",
    "print(f\"Loading processed Brent data with log returns from: {processed_brent_data_path}\")\n",
    "brent_processed_df = pd.read_csv(processed_brent_data_path)\n",
    "brent_processed_df['Date'] = pd.to_datetime(brent_processed_df['Date'])"
   ]
  },
  {
   "cell_type": "code",
   "execution_count": 8,
   "id": "febc5dd9-bf35-4444-b770-1ce4d62f542f",
   "metadata": {},
   "outputs": [
    {
     "name": "stdout",
     "output_type": "stream",
     "text": [
      "Loading change point analysis results from: ../data/processed/change_point_results.json\n",
      "Loading key events data from: ../data/raw/key_events.csv\n"
     ]
    }
   ],
   "source": [
    "# Load change point analysis results\n",
    "print(f\"Loading change point analysis results from: {change_point_results_path}\")\n",
    "try:\n",
    "    change_point_results = load_results(change_point_results_path)\n",
    "except FileNotFoundError:\n",
    "    print(\"Change point results not found. Please run 02_change_point_analysis.ipynb first.\")\n",
    "    exit()\n",
    "\n",
    "# Load key events data\n",
    "print(f\"Loading key events data from: {key_events_data_path}\")\n",
    "events_df = load_event_data(key_events_data_path)\n",
    "if events_df is None:\n",
    "    print(\"Failed to load key events data. Exiting.\")\n",
    "    exit()"
   ]
  },
  {
   "cell_type": "code",
   "execution_count": 9,
   "id": "28147979-1d33-45a9-b785-a45cde507dd3",
   "metadata": {},
   "outputs": [],
   "source": [
    "## Prepare data for API endpoints"
   ]
  },
  {
   "cell_type": "code",
   "execution_count": 10,
   "id": "41829cf9-233e-4fb8-ae8d-99d98af4f618",
   "metadata": {},
   "outputs": [
    {
     "name": "stdout",
     "output_type": "stream",
     "text": [
      "\n",
      "Sample of historical data for dashboard:\n",
      "         Date  Price  Log_Return\n",
      "0  1987-05-20  18.63         NaN\n",
      "1  1987-05-21  18.45   -0.009709\n",
      "2  1987-05-22  18.55    0.005405\n",
      "3  1987-05-25  18.60    0.002692\n",
      "4  1987-05-26  18.63    0.001612\n",
      "Historical data for dashboard saved to ../data/processed/dashboard_historical_data.json\n"
     ]
    }
   ],
   "source": [
    "# 1. Historical Prices (Price and Log_Return)\n",
    "# Combine raw prices with log returns for a comprehensive time series\n",
    "full_data_for_dashboard = brent_raw_df.merge(brent_processed_df[['Date', 'Log_Return']], on='Date', how='left')\n",
    "full_data_for_dashboard['Date'] = full_data_for_dashboard['Date'].dt.strftime('%Y-%m-%d') # Format date for JSON\n",
    "print(\"\\nSample of historical data for dashboard:\")\n",
    "print(full_data_for_dashboard.head())\n",
    "\n",
    "# Save to a format easily consumable by Flask (e.g., JSON)\n",
    "full_data_for_dashboard.to_json('../data/processed/dashboard_historical_data.json', orient='records', date_format='iso')\n",
    "print(f\"Historical data for dashboard saved to ../data/processed/dashboard_historical_data.json\")\n"
   ]
  },
  {
   "cell_type": "code",
   "execution_count": 11,
   "id": "717e59ac-0a58-4e23-b765-54c2eff1d2cf",
   "metadata": {},
   "outputs": [],
   "source": [
    "# 2. Change Point Details\n",
    "\n",
    "change_point_date = change_point_results.get('most_probable_change_point_date')\n",
    "if change_point_date:\n",
    "    change_point_date_pd = pd.to_datetime(change_point_date)\n",
    "    # Get the raw price at the change point date for display\n",
    "    price_at_change_point = brent_raw_df[brent_raw_df['Date'] == change_point_date_pd]['Price'].iloc[0] if not brent_raw_df[brent_raw_df['Date'] == change_point_date_pd].empty else None\n",
    "    change_point_results['price_at_change_point'] = price_at_change_point"
   ]
  },
  {
   "cell_type": "code",
   "execution_count": 12,
   "id": "603aa84a-4288-4ea3-9eec-71c73aae0508",
   "metadata": {},
   "outputs": [
    {
     "name": "stdout",
     "output_type": "stream",
     "text": [
      "\n",
      "Sample of event data for dashboard:\n",
      "         Date       EventType  \\\n",
      "0  1990-08-02        Conflict   \n",
      "1  1997-07-02  Economic Shock   \n",
      "2  2001-09-11        Conflict   \n",
      "3  2003-03-20        Conflict   \n",
      "4  2008-09-15  Economic Shock   \n",
      "\n",
      "                                    EventDescription  \n",
      "0              Iraq invades Kuwait (Gulf War begins)  \n",
      "1                      Asian Financial Crisis begins  \n",
      "2                             9/11 Terrorist Attacks  \n",
      "3                                US invasion of Iraq  \n",
      "4  Lehman Brothers collapse (Global Financial Cri...  \n",
      "Event data for dashboard saved to ../data/processed/dashboard_events_data.json\n",
      "Dashboard summary data saved to ../data/processed/dashboard_summary.json\n",
      "\n",
      "--- Dashboard Data Preparation Completed ---\n",
      "These JSON files can now be served by the Flask backend.\n"
     ]
    }
   ],
   "source": [
    "# 3. Key Events\n",
    "# Format event dates for JSON\n",
    "events_df['Date'] = events_df['Date'].dt.strftime('%Y-%m-%d')\n",
    "print(\"\\nSample of event data for dashboard:\")\n",
    "print(events_df.head())\n",
    "events_df.to_json('../data/processed/dashboard_events_data.json', orient='records', date_format='iso')\n",
    "print(f\"Event data for dashboard saved to ../data/processed/dashboard_events_data.json\")\n",
    "\n",
    "# Combine all results into a single JSON for easy access by frontend, if preferred\n",
    "dashboard_summary = {\n",
    "    \"change_point_analysis\": change_point_results,\n",
    "    \"events\": events_df.to_dict(orient='records')\n",
    "    # Historical data will be loaded separately via an API endpoint due to size\n",
    "}\n",
    "\n",
    "with open('../data/processed/dashboard_summary.json', 'w') as f:\n",
    "    json.dump(dashboard_summary, f, indent=4)\n",
    "print(f\"Dashboard summary data saved to ../data/processed/dashboard_summary.json\")\n",
    "\n",
    "print(\"\\n--- Dashboard Data Preparation Completed ---\")\n",
    "print(\"These JSON files can now be served by the Flask backend.\")"
   ]
  },
  {
   "cell_type": "code",
   "execution_count": null,
   "id": "fbed6d9d-549a-4af9-8573-294e58d43ac6",
   "metadata": {},
   "outputs": [],
   "source": []
  }
 ],
 "metadata": {
  "kernelspec": {
   "display_name": "Python [conda env:base] *",
   "language": "python",
   "name": "conda-base-py"
  },
  "language_info": {
   "codemirror_mode": {
    "name": "ipython",
    "version": 3
   },
   "file_extension": ".py",
   "mimetype": "text/x-python",
   "name": "python",
   "nbconvert_exporter": "python",
   "pygments_lexer": "ipython3",
   "version": "3.12.3"
  }
 },
 "nbformat": 4,
 "nbformat_minor": 5
}
